{
 "cells": [
  {
   "cell_type": "markdown",
   "metadata": {},
   "source": [
    "Ejercicio 1"
   ]
  },
  {
   "cell_type": "code",
   "execution_count": 1,
   "metadata": {},
   "outputs": [],
   "source": [
    "import sys\n",
    "import os\n",
    "# Obtener la ruta absoluta del directorio raíz del proyecto\n",
    "sys.path.append(os.path.abspath(\"../src\"))\n",
    "from Funciones import *"
   ]
  },
  {
   "cell_type": "code",
   "execution_count": null,
   "metadata": {},
   "outputs": [],
   "source": [
    "import this\n",
    "zen = this.s\n",
    "lineas=translate(zen)\n",
    "filtrar_palabras(lineas)"
   ]
  },
  {
   "cell_type": "markdown",
   "metadata": {},
   "source": [
    "Ejercicio 2"
   ]
  },
  {
   "cell_type": "code",
   "execution_count": null,
   "metadata": {},
   "outputs": [],
   "source": [
    "\n",
    "titles = [\n",
    "\"Speedrun de Super Mario en tiempo récord\",\n",
    "\"Charla sobre desarrollo de videojuegos\",\n",
    "\"Jugando al nuevo FPS del momento con amigos\",\n",
    "\"Música en vivo: improvisaciones al piano\"\n",
    "]\n",
    "\n",
    "print(f\"El título más largo es: {contar(titles)}\")"
   ]
  },
  {
   "cell_type": "markdown",
   "metadata": {},
   "source": [
    "Ejercicio 3"
   ]
  },
  {
   "cell_type": "code",
   "execution_count": null,
   "metadata": {},
   "outputs": [],
   "source": [
    "rules = \"\"\"Respeta a los demás. No se permiten insultos ni lenguaje\n",
    "ofensivo.\n",
    "Evita el spam. No publiques enlaces sospechosos o repetitivos.\n",
    "No compartas información personal.\n",
    "Usa los canales adecuados para cada tema.\n",
    "Sigue las instrucciones de los moderadores.\"\"\"\n",
    "\n",
    "\n",
    "palabra = input(\"Ingrese una palabra clave para buscar en las reglas: \")\n",
    "buscar_reglas(rules,palabra)"
   ]
  },
  {
   "cell_type": "markdown",
   "metadata": {},
   "source": [
    "Ejercicio 4\n"
   ]
  },
  {
   "cell_type": "code",
   "execution_count": null,
   "metadata": {},
   "outputs": [],
   "source": [
    "print(\"Al menos 5 caracteres.\\nContiene al menos un número.\")\n",
    "print(\"\\nContiene al menos una letra mayúscula. \\nSolo puede contener letras y números.\")\n",
    "nombre = input(\"\\nIngrese una palabra clave para buscar en las reglas: \")\n",
    "validar_usuario(nombre)"
   ]
  },
  {
   "cell_type": "markdown",
   "metadata": {},
   "source": [
    "Ejercicio 5"
   ]
  },
  {
   "cell_type": "code",
   "execution_count": null,
   "metadata": {},
   "outputs": [],
   "source": [
    "tiemrea = input(\"Ingrese su tiempo de reacción en ms: \")\n",
    "if tiemrea.isdigit():\n",
    "    clasificar_reaccion(int(tiemrea))\n",
    "else:\n",
    "    print(\"Error, el tiempo de reacción debe ser un número entero\")"
   ]
  },
  {
   "cell_type": "markdown",
   "metadata": {},
   "source": [
    "Ejercicio 6"
   ]
  },
  {
   "cell_type": "code",
   "execution_count": null,
   "metadata": {},
   "outputs": [],
   "source": [
    "descriptions = [\n",
    "\"Streaming de música en vivo con covers y composiciones\",\n",
    "\"Charla interactiva con la audiencia sobre series y películas\",\n",
    "\"Jugamos a juegos retro y charlamos sobre su historia\",\n",
    "\"Exploramos la mejor música de los 80s y 90s\",\n",
    "\"Programa de entretenimiento con noticias y curiosidades del mundo gamer\",\n",
    "\"Sesión de charla con invitados especiales del mundo del streaming\",\n",
    "\"Música en directo con improvisaciones y peticiones del chat\",\n",
    "\"Un espacio para charlar relajada sobre tecnología y cultura digital\",\n",
    "\"Exploramos el impacto de la música en los videojuegos clásicos\"\n",
    "]\n",
    "contar_menciones(descriptions)"
   ]
  },
  {
   "cell_type": "markdown",
   "metadata": {},
   "source": [
    "Ejercicio 7"
   ]
  },
  {
   "cell_type": "code",
   "execution_count": null,
   "metadata": {},
   "outputs": [],
   "source": [
    "\n",
    "# Solicitar el nombre del usuario\n",
    "usuario = input(\"Ingrese su nombre de usuario (máx. 15 caracteres): \").strip()\n",
    "generar_codigo(usuario)"
   ]
  },
  {
   "cell_type": "markdown",
   "metadata": {},
   "source": [
    "Ejercicio 8"
   ]
  },
  {
   "cell_type": "code",
   "execution_count": null,
   "metadata": {},
   "outputs": [],
   "source": [
    "# Solicitar palabras al usuario\n",
    "palabra1 = input(\"Ingrese la primera palabra: \").strip()\n",
    "palabra2 = input(\"Ingrese la segunda palabra: \").strip()\n",
    "\n",
    "son_anagramas(palabra1, palabra2)\n"
   ]
  },
  {
   "cell_type": "markdown",
   "metadata": {},
   "source": [
    "Ejercicio 9"
   ]
  },
  {
   "cell_type": "code",
   "execution_count": null,
   "metadata": {},
   "outputs": [],
   "source": [
    "\n",
    "clients = [\n",
    "    \" Ana López \", \"Pedro Gómez\", \"maria martínez\", \"Pedro Gómez \", \"\",\n",
    "    \" Luis Rodríguez \", None, \"ana lópez\", \"JUAN PÉREZ\", \"MARTA SUÁREZ\",\n",
    "    \"luis rodríguez\", \"maría martínez \", \" claudia torres\", \"CLAUDIA TORRES\",\n",
    "    \" \", \"pedro gómez\", \"Juan Pérez\", None, \"Ricardo Fernández\", \"LAURA RAMOS\",\n",
    "    \"carlos mendes\", \"RICARDO FERNÁNDEZ \", \" Laura ramos\", \"CARLOS MENDES\",\n",
    "    \"alejandro gonzález\", \" ALEJANDRO GONZÁLEZ \", \"Patricia Vega\",\n",
    "    \"patricia VEGA\", \"Andrés Ocampo\", \" andrés ocampo\", \"Monica Herrera\",\n",
    "    \"MONICA HERRERA \", \"gabriela ruíz\", \"Gabriela Ruíz\", \"sandra morales\",\n",
    "    \"SANDRA MORALES\", \"miguel ángel\", \"Miguel Ángel \", \" Damián Castillo\",\n",
    "    \"Damián Castillo \", None, \"\", \" \"\n",
    "]\n",
    "\n",
    "print(limpiar_clientes(clients))\n"
   ]
  },
  {
   "cell_type": "markdown",
   "metadata": {},
   "source": [
    "Ejercicio 10\n"
   ]
  },
  {
   "cell_type": "code",
   "execution_count": 2,
   "metadata": {},
   "outputs": [
    {
     "name": "stdout",
     "output_type": "stream",
     "text": [
      "Ranking ronda 1\n",
      "| Jugador   | Kills | Asistencias| Muertes| MVP   | Puntos|\n",
      "-----------------------------------------------------------\n",
      "| Shadow    | 2     | 1          | 1     | 1     | 6     |\n",
      "-----------------------------------------------------------\n",
      "| Viper     | 1     | 2          | 1     | 0     | 4     |\n",
      "-----------------------------------------------------------\n",
      "| Reaper    | 1     | 1          | 0     | 0     | 4     |\n",
      "-----------------------------------------------------------\n",
      "| Blaze     | 1     | 0          | 0     | 0     | 3     |\n",
      "-----------------------------------------------------------\n",
      "| Frost     | 0     | 1          | 0     | 0     | 1     |\n",
      "-----------------------------------------------------------\n",
      "Ranking ronda 2\n",
      "| Jugador   | Kills | Asistencias| Muertes| MVP   | Puntos|\n",
      "-----------------------------------------------------------\n",
      "| Shadow    | 2     | 3          | 1     | 1     | 8     |\n",
      "-----------------------------------------------------------\n",
      "| Blaze     | 3     | 0          | 1     | 0     | 8     |\n",
      "-----------------------------------------------------------\n",
      "| Viper     | 2     | 3          | 1     | 0     | 8     |\n",
      "-----------------------------------------------------------\n",
      "| Frost     | 2     | 2          | 1     | 1     | 7     |\n",
      "-----------------------------------------------------------\n",
      "| Reaper    | 1     | 2          | 0     | 0     | 5     |\n",
      "-----------------------------------------------------------\n",
      "Ranking ronda 3\n",
      "| Jugador   | Kills | Asistencias| Muertes| MVP   | Puntos|\n",
      "-----------------------------------------------------------\n",
      "| Blaze     | 5     | 2          | 2     | 1     | 15    |\n",
      "-----------------------------------------------------------\n",
      "| Shadow    | 3     | 3          | 1     | 1     | 11    |\n",
      "-----------------------------------------------------------\n",
      "| Viper     | 3     | 4          | 2     | 0     | 11    |\n",
      "-----------------------------------------------------------\n",
      "| Reaper    | 2     | 3          | 0     | 0     | 9     |\n",
      "-----------------------------------------------------------\n",
      "| Frost     | 2     | 3          | 1     | 1     | 8     |\n",
      "-----------------------------------------------------------\n",
      "Ranking ronda 4\n",
      "| Jugador   | Kills | Asistencias| Muertes| MVP   | Puntos|\n",
      "-----------------------------------------------------------\n",
      "| Shadow    | 5     | 4          | 1     | 2     | 18    |\n",
      "-----------------------------------------------------------\n",
      "| Blaze     | 6     | 2          | 3     | 1     | 17    |\n",
      "-----------------------------------------------------------\n",
      "| Viper     | 3     | 6          | 2     | 0     | 13    |\n",
      "-----------------------------------------------------------\n",
      "| Reaper    | 3     | 4          | 0     | 0     | 13    |\n",
      "-----------------------------------------------------------\n",
      "| Frost     | 3     | 4          | 2     | 1     | 11    |\n",
      "-----------------------------------------------------------\n",
      "Ranking ronda Final\n",
      "| Jugador   | Kills | Asistencias| Muertes| MVP   | Puntos|\n",
      "-----------------------------------------------------------\n",
      "| Shadow    | 6     | 6          | 2     | 2     | 22    |\n",
      "-----------------------------------------------------------\n",
      "| Blaze     | 6     | 3          | 3     | 1     | 18    |\n",
      "-----------------------------------------------------------\n",
      "| Viper     | 5     | 6          | 3     | 1     | 18    |\n",
      "-----------------------------------------------------------\n",
      "| Reaper    | 4     | 5          | 1     | 0     | 16    |\n",
      "-----------------------------------------------------------\n",
      "| Frost     | 4     | 5          | 2     | 1     | 15    |\n",
      "-----------------------------------------------------------\n"
     ]
    }
   ],
   "source": [
    "\n",
    "rounds = [\n",
    "    {\n",
    "    'Shadow': {'kills': 2, 'assists': 1, 'deaths': True},\n",
    "    'Blaze': {'kills': 1, 'assists': 0, 'deaths': False},\n",
    "    'Viper': {'kills': 1, 'assists': 2, 'deaths': True},\n",
    "    'Frost': {'kills': 0, 'assists': 1, 'deaths': False},\n",
    "    'Reaper': {'kills': 1, 'assists': 1, 'deaths': False}\n",
    "    },\n",
    "    {\n",
    "    'Shadow': {'kills': 0, 'assists': 2, 'deaths': False},\n",
    "    'Blaze': {'kills': 2, 'assists': 0, 'deaths': True},\n",
    "    'Viper': {'kills': 1, 'assists': 1, 'deaths': False},\n",
    "    'Frost': {'kills': 2, 'assists': 1, 'deaths': True},\n",
    "    'Reaper': {'kills': 0, 'assists': 1, 'deaths': False}\n",
    "    },\n",
    "    {\n",
    "    'Shadow': {'kills': 1, 'assists': 0, 'deaths': False},\n",
    "    'Blaze': {'kills': 2, 'assists': 2, 'deaths': True},\n",
    "    'Viper': {'kills': 1, 'assists': 1, 'deaths': True},\n",
    "    'Frost': {'kills': 0, 'assists': 1, 'deaths': False},\n",
    "    'Reaper': {'kills': 1, 'assists': 1, 'deaths': False}\n",
    "    },\n",
    "    {\n",
    "    'Shadow': {'kills': 2, 'assists': 1, 'deaths': False},\n",
    "    'Blaze': {'kills': 1, 'assists': 0, 'deaths': True},\n",
    "    'Viper': {'kills': 0, 'assists': 2, 'deaths': False},\n",
    "    'Frost': {'kills': 1, 'assists': 1, 'deaths': True},\n",
    "    'Reaper': {'kills': 1, 'assists': 1, 'deaths': False}\n",
    "    },\n",
    "    {\n",
    "    'Shadow': {'kills': 1, 'assists': 2, 'deaths': True},\n",
    "    'Blaze': {'kills': 0, 'assists': 1, 'deaths': False},\n",
    "    'Viper': {'kills': 2, 'assists': 0, 'deaths': True},\n",
    "    'Frost': {'kills': 1, 'assists': 1, 'deaths': False},\n",
    "    'Reaper': {'kills': 1, 'assists': 1, 'deaths': True}\n",
    "    }\n",
    "]\n",
    "\n",
    "# Diccionario de estadísticas acumuladas\n",
    "total = {\n",
    "    'Shadow': {'kills': 0, 'assists': 0, 'deaths': 0, 'puntos': 0, 'mvp_count': 0},\n",
    "    'Blaze': {'kills': 0, 'assists': 0, 'deaths': 0, 'puntos': 0, 'mvp_count': 0},\n",
    "    'Viper': {'kills': 0, 'assists': 0, 'deaths': 0, 'puntos': 0, 'mvp_count': 0},\n",
    "    'Frost': {'kills': 0, 'assists': 0, 'deaths': 0, 'puntos': 0, 'mvp_count': 0},\n",
    "    'Reaper': {'kills': 0, 'assists': 0, 'deaths': 0, 'puntos': 0, 'mvp_count': 0}\n",
    "}\n",
    "\n",
    "\n",
    "procesar_rondas(rounds,total)\n",
    "\n",
    "\n"
   ]
  }
 ],
 "metadata": {
  "kernelspec": {
   "display_name": "Python 3",
   "language": "python",
   "name": "python3"
  },
  "language_info": {
   "codemirror_mode": {
    "name": "ipython",
    "version": 3
   },
   "file_extension": ".py",
   "mimetype": "text/x-python",
   "name": "python",
   "nbconvert_exporter": "python",
   "pygments_lexer": "ipython3",
   "version": "3.12.9"
  }
 },
 "nbformat": 4,
 "nbformat_minor": 4
}
